{
 "cells": [
  {
   "cell_type": "code",
   "execution_count": 0,
   "metadata": {
    "application/vnd.databricks.v1+cell": {
     "cellMetadata": {
      "byteLimit": 2048000,
      "rowLimit": 10000
     },
     "inputWidgets": {},
     "nuid": "c05e2484-b6a5-4fb3-8519-7558b1c9339c",
     "showTitle": false,
     "title": ""
    }
   },
   "outputs": [
    {
     "output_type": "display_data",
     "data": {
      "text/html": [
       "<style scoped>\n",
       "  .table-result-container {\n",
       "    max-height: 300px;\n",
       "    overflow: auto;\n",
       "  }\n",
       "  table, th, td {\n",
       "    border: 1px solid black;\n",
       "    border-collapse: collapse;\n",
       "  }\n",
       "  th, td {\n",
       "    padding: 5px;\n",
       "  }\n",
       "  th {\n",
       "    text-align: left;\n",
       "  }\n",
       "</style><div class='table-result-container'><table class='table-result'><thead style='background-color: white'><tr><th>id</th><th>diagnosis</th><th>radius_mean</th><th>texture_mean</th><th>perimeter_mean</th><th>area_mean</th><th>smoothness_mean</th><th>compactness_mean</th><th>concavity_mean</th><th>concave points_mean</th><th>symmetry_mean</th><th>fractal_dimension_mean</th><th>radius_se</th><th>texture_se</th><th>perimeter_se</th><th>area_se</th><th>smoothness_se</th><th>compactness_se</th><th>concavity_se</th><th>concave points_se</th><th>symmetry_se</th><th>fractal_dimension_se</th><th>radius_worst</th><th>texture_worst</th><th>perimeter_worst</th><th>area_worst</th><th>smoothness_worst</th><th>compactness_worst</th><th>concavity_worst</th><th>concave points_worst</th><th>symmetry_worst</th><th>fractal_dimension_worst</th></tr></thead><tbody><tr><td>842302</td><td>M</td><td>17.99</td><td>10.38</td><td>122.8</td><td>1001.0</td><td>0.1184</td><td>0.2776</td><td>0.3001</td><td>0.1471</td><td>0.2419</td><td>0.07871</td><td>1.095</td><td>0.9053</td><td>8.589</td><td>153.4</td><td>0.006399</td><td>0.04904</td><td>0.05373</td><td>0.01587</td><td>0.03003</td><td>0.006193</td><td>25.38</td><td>17.33</td><td>184.6</td><td>2019.0</td><td>0.1622</td><td>0.6656</td><td>0.7119</td><td>0.2654</td><td>0.4601</td><td>0.1189</td></tr><tr><td>842517</td><td>M</td><td>20.57</td><td>17.77</td><td>132.9</td><td>1326.0</td><td>0.08474</td><td>0.07864</td><td>0.0869</td><td>0.07017</td><td>0.1812</td><td>0.05667</td><td>0.5435</td><td>0.7339</td><td>3.398</td><td>74.08</td><td>0.005225</td><td>0.01308</td><td>0.0186</td><td>0.0134</td><td>0.01389</td><td>0.003532</td><td>24.99</td><td>23.41</td><td>158.8</td><td>1956.0</td><td>0.1238</td><td>0.1866</td><td>0.2416</td><td>0.186</td><td>0.275</td><td>0.08902</td></tr><tr><td>84300903</td><td>M</td><td>19.69</td><td>21.25</td><td>130.0</td><td>1203.0</td><td>0.1096</td><td>0.1599</td><td>0.1974</td><td>0.1279</td><td>0.2069</td><td>0.05999</td><td>0.7456</td><td>0.7869</td><td>4.585</td><td>94.03</td><td>0.00615</td><td>0.04006</td><td>0.03832</td><td>0.02058</td><td>0.0225</td><td>0.004571</td><td>23.57</td><td>25.53</td><td>152.5</td><td>1709.0</td><td>0.1444</td><td>0.4245</td><td>0.4504</td><td>0.243</td><td>0.3613</td><td>0.08758</td></tr><tr><td>84348301</td><td>M</td><td>11.42</td><td>20.38</td><td>77.58</td><td>386.1</td><td>0.1425</td><td>0.2839</td><td>0.2414</td><td>0.1052</td><td>0.2597</td><td>0.09744</td><td>0.4956</td><td>1.156</td><td>3.445</td><td>27.23</td><td>0.00911</td><td>0.07458</td><td>0.05661</td><td>0.01867</td><td>0.05963</td><td>0.009208</td><td>14.91</td><td>26.5</td><td>98.87</td><td>567.7</td><td>0.2098</td><td>0.8663</td><td>0.6869</td><td>0.2575</td><td>0.6638</td><td>0.173</td></tr><tr><td>84358402</td><td>M</td><td>20.29</td><td>14.34</td><td>135.1</td><td>1297.0</td><td>0.1003</td><td>0.1328</td><td>0.198</td><td>0.1043</td><td>0.1809</td><td>0.05883</td><td>0.7572</td><td>0.7813</td><td>5.438</td><td>94.44</td><td>0.01149</td><td>0.02461</td><td>0.05688</td><td>0.01885</td><td>0.01756</td><td>0.005115</td><td>22.54</td><td>16.67</td><td>152.2</td><td>1575.0</td><td>0.1374</td><td>0.205</td><td>0.4</td><td>0.1625</td><td>0.2364</td><td>0.07678</td></tr></tbody></table></div>"
      ]
     },
     "metadata": {
      "application/vnd.databricks.v1+output": {
       "addedWidgets": {},
       "aggData": [],
       "aggError": "",
       "aggOverflow": false,
       "aggSchema": [],
       "aggSeriesLimitReached": false,
       "aggType": "",
       "arguments": {},
       "columnCustomDisplayInfos": {},
       "data": [
        [
         842302,
         "M",
         17.99,
         10.38,
         122.8,
         1001.0,
         0.1184,
         0.2776,
         0.3001,
         0.1471,
         0.2419,
         0.07871,
         1.095,
         0.9053,
         8.589,
         153.4,
         0.006399,
         0.04904,
         0.05373,
         0.01587,
         0.03003,
         0.006193,
         25.38,
         17.33,
         184.6,
         2019.0,
         0.1622,
         0.6656,
         0.7119,
         0.2654,
         0.4601,
         0.1189
        ],
        [
         842517,
         "M",
         20.57,
         17.77,
         132.9,
         1326.0,
         0.08474,
         0.07864,
         0.0869,
         0.07017,
         0.1812,
         0.05667,
         0.5435,
         0.7339,
         3.398,
         74.08,
         0.005225,
         0.01308,
         0.0186,
         0.0134,
         0.01389,
         0.003532,
         24.99,
         23.41,
         158.8,
         1956.0,
         0.1238,
         0.1866,
         0.2416,
         0.186,
         0.275,
         0.08902
        ],
        [
         84300903,
         "M",
         19.69,
         21.25,
         130.0,
         1203.0,
         0.1096,
         0.1599,
         0.1974,
         0.1279,
         0.2069,
         0.05999,
         0.7456,
         0.7869,
         4.585,
         94.03,
         0.00615,
         0.04006,
         0.03832,
         0.02058,
         0.0225,
         0.004571,
         23.57,
         25.53,
         152.5,
         1709.0,
         0.1444,
         0.4245,
         0.4504,
         0.243,
         0.3613,
         0.08758
        ],
        [
         84348301,
         "M",
         11.42,
         20.38,
         77.58,
         386.1,
         0.1425,
         0.2839,
         0.2414,
         0.1052,
         0.2597,
         0.09744,
         0.4956,
         1.156,
         3.445,
         27.23,
         0.00911,
         0.07458,
         0.05661,
         0.01867,
         0.05963,
         0.009208,
         14.91,
         26.5,
         98.87,
         567.7,
         0.2098,
         0.8663,
         0.6869,
         0.2575,
         0.6638,
         0.173
        ],
        [
         84358402,
         "M",
         20.29,
         14.34,
         135.1,
         1297.0,
         0.1003,
         0.1328,
         0.198,
         0.1043,
         0.1809,
         0.05883,
         0.7572,
         0.7813,
         5.438,
         94.44,
         0.01149,
         0.02461,
         0.05688,
         0.01885,
         0.01756,
         0.005115,
         22.54,
         16.67,
         152.2,
         1575.0,
         0.1374,
         0.205,
         0.4,
         0.1625,
         0.2364,
         0.07678
        ]
       ],
       "datasetInfos": [],
       "dbfsResultPath": null,
       "isJsonSchema": true,
       "metadata": {},
       "overflow": false,
       "plotOptions": {
        "customPlotOptions": {},
        "displayType": "table",
        "pivotAggregation": null,
        "pivotColumns": null,
        "xColumns": null,
        "yColumns": null
       },
       "removedWidgets": [],
       "schema": [
        {
         "metadata": "{}",
         "name": "id",
         "type": "\"long\""
        },
        {
         "metadata": "{}",
         "name": "diagnosis",
         "type": "\"string\""
        },
        {
         "metadata": "{}",
         "name": "radius_mean",
         "type": "\"double\""
        },
        {
         "metadata": "{}",
         "name": "texture_mean",
         "type": "\"double\""
        },
        {
         "metadata": "{}",
         "name": "perimeter_mean",
         "type": "\"double\""
        },
        {
         "metadata": "{}",
         "name": "area_mean",
         "type": "\"double\""
        },
        {
         "metadata": "{}",
         "name": "smoothness_mean",
         "type": "\"double\""
        },
        {
         "metadata": "{}",
         "name": "compactness_mean",
         "type": "\"double\""
        },
        {
         "metadata": "{}",
         "name": "concavity_mean",
         "type": "\"double\""
        },
        {
         "metadata": "{}",
         "name": "concave points_mean",
         "type": "\"double\""
        },
        {
         "metadata": "{}",
         "name": "symmetry_mean",
         "type": "\"double\""
        },
        {
         "metadata": "{}",
         "name": "fractal_dimension_mean",
         "type": "\"double\""
        },
        {
         "metadata": "{}",
         "name": "radius_se",
         "type": "\"double\""
        },
        {
         "metadata": "{}",
         "name": "texture_se",
         "type": "\"double\""
        },
        {
         "metadata": "{}",
         "name": "perimeter_se",
         "type": "\"double\""
        },
        {
         "metadata": "{}",
         "name": "area_se",
         "type": "\"double\""
        },
        {
         "metadata": "{}",
         "name": "smoothness_se",
         "type": "\"double\""
        },
        {
         "metadata": "{}",
         "name": "compactness_se",
         "type": "\"double\""
        },
        {
         "metadata": "{}",
         "name": "concavity_se",
         "type": "\"double\""
        },
        {
         "metadata": "{}",
         "name": "concave points_se",
         "type": "\"double\""
        },
        {
         "metadata": "{}",
         "name": "symmetry_se",
         "type": "\"double\""
        },
        {
         "metadata": "{}",
         "name": "fractal_dimension_se",
         "type": "\"double\""
        },
        {
         "metadata": "{}",
         "name": "radius_worst",
         "type": "\"double\""
        },
        {
         "metadata": "{}",
         "name": "texture_worst",
         "type": "\"double\""
        },
        {
         "metadata": "{}",
         "name": "perimeter_worst",
         "type": "\"double\""
        },
        {
         "metadata": "{}",
         "name": "area_worst",
         "type": "\"double\""
        },
        {
         "metadata": "{}",
         "name": "smoothness_worst",
         "type": "\"double\""
        },
        {
         "metadata": "{}",
         "name": "compactness_worst",
         "type": "\"double\""
        },
        {
         "metadata": "{}",
         "name": "concavity_worst",
         "type": "\"double\""
        },
        {
         "metadata": "{}",
         "name": "concave points_worst",
         "type": "\"double\""
        },
        {
         "metadata": "{}",
         "name": "symmetry_worst",
         "type": "\"double\""
        },
        {
         "metadata": "{}",
         "name": "fractal_dimension_worst",
         "type": "\"double\""
        }
       ],
       "type": "table"
      }
     },
     "output_type": "display_data"
    },
    {
     "output_type": "stream",
     "name": "stdout",
     "output_type": "stream",
     "text": [
      "<class 'pandas.core.frame.DataFrame'>\nRangeIndex: 569 entries, 0 to 568\nData columns (total 32 columns):\n #   Column                   Non-Null Count  Dtype  \n---  ------                   --------------  -----  \n 0   id                       569 non-null    int64  \n 1   diagnosis                569 non-null    object \n 2   radius_mean              569 non-null    float64\n 3   texture_mean             569 non-null    float64\n 4   perimeter_mean           569 non-null    float64\n 5   area_mean                569 non-null    float64\n 6   smoothness_mean          569 non-null    float64\n 7   compactness_mean         569 non-null    float64\n 8   concavity_mean           569 non-null    float64\n 9   concave points_mean      569 non-null    float64\n 10  symmetry_mean            569 non-null    float64\n 11  fractal_dimension_mean   569 non-null    float64\n 12  radius_se                569 non-null    float64\n 13  texture_se               569 non-null    float64\n 14  perimeter_se             569 non-null    float64\n 15  area_se                  569 non-null    float64\n 16  smoothness_se            569 non-null    float64\n 17  compactness_se           569 non-null    float64\n 18  concavity_se             569 non-null    float64\n 19  concave points_se        569 non-null    float64\n 20  symmetry_se              569 non-null    float64\n 21  fractal_dimension_se     569 non-null    float64\n 22  radius_worst             569 non-null    float64\n 23  texture_worst            569 non-null    float64\n 24  perimeter_worst          569 non-null    float64\n 25  area_worst               569 non-null    float64\n 26  smoothness_worst         569 non-null    float64\n 27  compactness_worst        569 non-null    float64\n 28  concavity_worst          569 non-null    float64\n 29  concave points_worst     569 non-null    float64\n 30  symmetry_worst           569 non-null    float64\n 31  fractal_dimension_worst  569 non-null    float64\ndtypes: float64(30), int64(1), object(1)\nmemory usage: 142.4+ KB\nNone\n                 id  radius_mean  ...  symmetry_worst  fractal_dimension_worst\ncount  5.690000e+02   569.000000  ...      569.000000               569.000000\nmean   3.037183e+07    14.127292  ...        0.290076                 0.083946\nstd    1.250206e+08     3.524049  ...        0.061867                 0.018061\nmin    8.670000e+03     6.981000  ...        0.156500                 0.055040\n25%    8.692180e+05    11.700000  ...        0.250400                 0.071460\n50%    9.060240e+05    13.370000  ...        0.282200                 0.080040\n75%    8.813129e+06    15.780000  ...        0.317900                 0.092080\nmax    9.113205e+08    28.110000  ...        0.663800                 0.207500\n\n[8 rows x 31 columns]\n"
     ]
    }
   ],
   "source": [
    "# Import necessary libraries\n",
    "import pandas as pd\n",
    "from sklearn.model_selection import train_test_split\n",
    "from sklearn.preprocessing import StandardScaler\n",
    "from sklearn.ensemble import RandomForestClassifier\n",
    "from sklearn.metrics import classification_report, confusion_matrix\n",
    "\n",
    "# Load the dataset\n",
    "url = \"https://raw.githubusercontent.com/deepanshuMeteor/ComputerVision/refs/heads/main/data.csv\"\n",
    "data = pd.read_csv(url)\n",
    "\n",
    "# Display the first few rows of the dataset\n",
    "display(data.head())\n",
    "\n",
    "# Check data types and missing values\n",
    "print(data.info())\n",
    "print(data.describe())\n",
    "\n",
    "\n"
   ]
  },
  {
   "cell_type": "code",
   "execution_count": 0,
   "metadata": {
    "application/vnd.databricks.v1+cell": {
     "cellMetadata": {
      "byteLimit": 2048000,
      "rowLimit": 10000
     },
     "inputWidgets": {},
     "nuid": "3b885f44-18c0-4f22-9c9e-2eb2251cf8dc",
     "showTitle": false,
     "title": ""
    }
   },
   "outputs": [
    {
     "output_type": "stream",
     "name": "stderr",
     "output_type": "stream",
     "text": [
      "/root/.ipykernel/2039/command-722753471938283-845693071:2: FutureWarning: The default value of numeric_only in DataFrame.mean is deprecated. In a future version, it will default to False. In addition, specifying 'numeric_only=None' is deprecated. Select only valid columns or specify the value of numeric_only to silence this warning.\n  data.fillna(data.mean(), inplace=True)\n"
     ]
    }
   ],
   "source": [
    "# Handling missing values\n",
    "data.fillna(data.mean(), inplace=True)\n",
    "\n",
    "# Encode the 'diagnosis' column\n",
    "data['diagnosis'] = data['diagnosis'].map({'M': 1, 'B': 0})  # 'M' for malignant, 'B' for benign\n",
    "\n",
    "# Separate features and target variable\n",
    "X = data.drop('diagnosis', axis=1)\n",
    "y = data['diagnosis']\n"
   ]
  },
  {
   "cell_type": "code",
   "execution_count": 0,
   "metadata": {
    "application/vnd.databricks.v1+cell": {
     "cellMetadata": {
      "byteLimit": 2048000,
      "rowLimit": 10000
     },
     "inputWidgets": {},
     "nuid": "142ef982-c0ca-4846-ac79-cdeb98979e28",
     "showTitle": false,
     "title": ""
    }
   },
   "outputs": [],
   "source": [
    "# Split the data into training and testing sets\n",
    "X_train, X_test, y_train, y_test = train_test_split(X, y, test_size=0.2, random_state=42)\n"
   ]
  },
  {
   "cell_type": "code",
   "execution_count": 0,
   "metadata": {
    "application/vnd.databricks.v1+cell": {
     "cellMetadata": {
      "byteLimit": 2048000,
      "rowLimit": 10000
     },
     "inputWidgets": {},
     "nuid": "507e78e5-111b-422a-aacb-afe6e993f417",
     "showTitle": false,
     "title": ""
    }
   },
   "outputs": [],
   "source": [
    "# Scale the features\n",
    "scaler = StandardScaler()\n",
    "X_train = scaler.fit_transform(X_train)\n",
    "X_test = scaler.transform(X_test)\n"
   ]
  },
  {
   "cell_type": "code",
   "execution_count": 0,
   "metadata": {
    "application/vnd.databricks.v1+cell": {
     "cellMetadata": {
      "byteLimit": 2048000,
      "rowLimit": 10000
     },
     "inputWidgets": {},
     "nuid": "efe05c66-8ea2-42fb-9626-336f446fa72b",
     "showTitle": false,
     "title": ""
    }
   },
   "outputs": [
    {
     "output_type": "display_data",
     "data": {
      "application/vnd.jupyter.widget-view+json": {
       "model_id": "37eab455b6b945fe9dd11c9e81f7b937",
       "version_major": 2,
       "version_minor": 0
      },
      "text/plain": [
       "Uploading artifacts:   0%|          | 0/3 [00:00<?, ?it/s]"
      ]
     },
     "metadata": {},
     "output_type": "display_data"
    },
    {
     "output_type": "display_data",
     "data": {
      "application/vnd.jupyter.widget-view+json": {
       "model_id": "0fafd797bb3847c99f9ed50850f051b8",
       "version_major": 2,
       "version_minor": 0
      },
      "text/plain": [
       "Uploading artifacts:   0%|          | 0/9 [00:00<?, ?it/s]"
      ]
     },
     "metadata": {},
     "output_type": "display_data"
    }
   ],
   "source": [
    "# Initialize and train the Random Forest model\n",
    "model = RandomForestClassifier(n_estimators=100, random_state=42)\n",
    "model.fit(X_train, y_train)\n",
    "\n",
    "# Make predictions\n",
    "y_pred = model.predict(X_test)\n"
   ]
  },
  {
   "cell_type": "code",
   "execution_count": 0,
   "metadata": {
    "application/vnd.databricks.v1+cell": {
     "cellMetadata": {
      "byteLimit": 2048000,
      "rowLimit": 10000
     },
     "inputWidgets": {},
     "nuid": "7f671df5-73ba-497e-8328-b8d4dfa4b40b",
     "showTitle": false,
     "title": ""
    }
   },
   "outputs": [
    {
     "output_type": "stream",
     "name": "stdout",
     "output_type": "stream",
     "text": [
      "[[70  1]\n [ 3 40]]\n              precision    recall  f1-score   support\n\n           0       0.96      0.99      0.97        71\n           1       0.98      0.93      0.95        43\n\n    accuracy                           0.96       114\n   macro avg       0.97      0.96      0.96       114\nweighted avg       0.97      0.96      0.96       114\n\n"
     ]
    }
   ],
   "source": [
    "# Print confusion matrix and classification report\n",
    "print(confusion_matrix(y_test, y_pred))\n",
    "print(classification_report(y_test, y_pred))\n"
   ]
  }
 ],
 "metadata": {
  "application/vnd.databricks.v1+notebook": {
   "dashboards": [],
   "environmentMetadata": null,
   "language": "python",
   "notebookMetadata": {
    "pythonIndentUnit": 4
   },
   "notebookName": "ML Program",
   "widgets": {}
  }
 },
 "nbformat": 4,
 "nbformat_minor": 0
}
